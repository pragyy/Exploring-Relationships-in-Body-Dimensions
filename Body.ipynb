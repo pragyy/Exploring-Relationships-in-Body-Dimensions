{
  "nbformat": 4,
  "nbformat_minor": 0,
  "metadata": {
    "colab": {
      "name": "Body.ipynb",
      "provenance": []
    },
    "kernelspec": {
      "name": "python3",
      "display_name": "Python 3"
    }
  },
  "cells": [
    {
      "cell_type": "code",
      "metadata": {
        "id": "AyxFEE0EwV0B"
      },
      "source": [
        "#import required packages\r\n",
        "import pandas as pd\r\n",
        "from math import sqrt, pow"
      ],
      "execution_count": 1,
      "outputs": []
    },
    {
      "cell_type": "code",
      "metadata": {
        "id": "7UpSP6U8purV",
        "colab": {
          "base_uri": "https://localhost:8080/",
          "height": 162
        },
        "outputId": "84414976-cf70-41f5-880f-7f17e33260c0"
      },
      "source": [
        "# read the excel dataset\r\n",
        "df = pd.read_excel('body.xlsx')\r\n",
        "df.head(3)"
      ],
      "execution_count": 2,
      "outputs": [
        {
          "output_type": "execute_result",
          "data": {
            "text/html": [
              "<div>\n",
              "<style scoped>\n",
              "    .dataframe tbody tr th:only-of-type {\n",
              "        vertical-align: middle;\n",
              "    }\n",
              "\n",
              "    .dataframe tbody tr th {\n",
              "        vertical-align: top;\n",
              "    }\n",
              "\n",
              "    .dataframe thead th {\n",
              "        text-align: right;\n",
              "    }\n",
              "</style>\n",
              "<table border=\"1\" class=\"dataframe\">\n",
              "  <thead>\n",
              "    <tr style=\"text-align: right;\">\n",
              "      <th></th>\n",
              "      <th>biacromial_diameter</th>\n",
              "      <th>biiliac_diameter</th>\n",
              "      <th>bitrochanteric_diameter</th>\n",
              "      <th>chest_depth</th>\n",
              "      <th>chest_diameter</th>\n",
              "      <th>elbow_diameter</th>\n",
              "      <th>wrist_diameter</th>\n",
              "      <th>knee_diameter</th>\n",
              "      <th>ankle_diameter</th>\n",
              "      <th>shoulder_girth</th>\n",
              "      <th>chest_girth</th>\n",
              "      <th>waist_girth</th>\n",
              "      <th>navel_girth</th>\n",
              "      <th>hip_girth</th>\n",
              "      <th>thigh_girth</th>\n",
              "      <th>bicep_girth</th>\n",
              "      <th>forearm_girth</th>\n",
              "      <th>knee_girth</th>\n",
              "      <th>calf_maximum_girth</th>\n",
              "      <th>ankle_minimum_girth</th>\n",
              "      <th>wrist_minimum_girth</th>\n",
              "      <th>age</th>\n",
              "      <th>weight</th>\n",
              "      <th>height</th>\n",
              "      <th>gender</th>\n",
              "    </tr>\n",
              "  </thead>\n",
              "  <tbody>\n",
              "    <tr>\n",
              "      <th>0</th>\n",
              "      <td>42.9</td>\n",
              "      <td>26.0</td>\n",
              "      <td>31.5</td>\n",
              "      <td>17.7</td>\n",
              "      <td>28.0</td>\n",
              "      <td>13.1</td>\n",
              "      <td>10.4</td>\n",
              "      <td>18.8</td>\n",
              "      <td>14.1</td>\n",
              "      <td>106.2</td>\n",
              "      <td>89.5</td>\n",
              "      <td>71.5</td>\n",
              "      <td>74.5</td>\n",
              "      <td>93.5</td>\n",
              "      <td>51.5</td>\n",
              "      <td>32.5</td>\n",
              "      <td>26.0</td>\n",
              "      <td>34.5</td>\n",
              "      <td>36.5</td>\n",
              "      <td>23.5</td>\n",
              "      <td>16.5</td>\n",
              "      <td>21</td>\n",
              "      <td>65.6</td>\n",
              "      <td>174.0</td>\n",
              "      <td>1</td>\n",
              "    </tr>\n",
              "    <tr>\n",
              "      <th>1</th>\n",
              "      <td>43.7</td>\n",
              "      <td>28.5</td>\n",
              "      <td>33.5</td>\n",
              "      <td>16.9</td>\n",
              "      <td>30.8</td>\n",
              "      <td>14.0</td>\n",
              "      <td>11.8</td>\n",
              "      <td>20.6</td>\n",
              "      <td>15.1</td>\n",
              "      <td>110.5</td>\n",
              "      <td>97.0</td>\n",
              "      <td>79.0</td>\n",
              "      <td>86.5</td>\n",
              "      <td>94.8</td>\n",
              "      <td>51.5</td>\n",
              "      <td>34.4</td>\n",
              "      <td>28.0</td>\n",
              "      <td>36.5</td>\n",
              "      <td>37.5</td>\n",
              "      <td>24.5</td>\n",
              "      <td>17.0</td>\n",
              "      <td>23</td>\n",
              "      <td>71.8</td>\n",
              "      <td>175.3</td>\n",
              "      <td>1</td>\n",
              "    </tr>\n",
              "    <tr>\n",
              "      <th>2</th>\n",
              "      <td>40.1</td>\n",
              "      <td>28.2</td>\n",
              "      <td>33.3</td>\n",
              "      <td>20.9</td>\n",
              "      <td>31.7</td>\n",
              "      <td>13.9</td>\n",
              "      <td>10.9</td>\n",
              "      <td>19.7</td>\n",
              "      <td>14.1</td>\n",
              "      <td>115.1</td>\n",
              "      <td>97.5</td>\n",
              "      <td>83.2</td>\n",
              "      <td>82.9</td>\n",
              "      <td>95.0</td>\n",
              "      <td>57.3</td>\n",
              "      <td>33.4</td>\n",
              "      <td>28.8</td>\n",
              "      <td>37.0</td>\n",
              "      <td>37.3</td>\n",
              "      <td>21.9</td>\n",
              "      <td>16.9</td>\n",
              "      <td>28</td>\n",
              "      <td>80.7</td>\n",
              "      <td>193.5</td>\n",
              "      <td>1</td>\n",
              "    </tr>\n",
              "  </tbody>\n",
              "</table>\n",
              "</div>"
            ],
            "text/plain": [
              "   biacromial_diameter  biiliac_diameter  ...  height  gender\n",
              "0                 42.9              26.0  ...   174.0       1\n",
              "1                 43.7              28.5  ...   175.3       1\n",
              "2                 40.1              28.2  ...   193.5       1\n",
              "\n",
              "[3 rows x 25 columns]"
            ]
          },
          "metadata": {
            "tags": []
          },
          "execution_count": 2
        }
      ]
    },
    {
      "cell_type": "markdown",
      "metadata": {
        "id": "3E_-sZGPWoXH"
      },
      "source": [
        "## Body Mass Index (BMI)\r\n",
        "\r\n",
        "BMI is given by the formula\r\n",
        "BMI = weight/(height)^2\r\n",
        "\r\n",
        "here, weight is in kgs and height is in meters."
      ]
    },
    {
      "cell_type": "code",
      "metadata": {
        "id": "GwbvHo9mnI7v"
      },
      "source": [
        "# height is given in cms so we will first convert height into meters.\r\n",
        "df['height_meters'] = df.apply(lambda x: x['height']/100, axis = 1) "
      ],
      "execution_count": 3,
      "outputs": []
    },
    {
      "cell_type": "code",
      "metadata": {
        "id": "KnZek7woUa_c"
      },
      "source": [
        "#calculate bmi\r\n",
        "df['bmi'] = df.apply(lambda x: (x['weight']/(x['height_meters'])*(x['height_meters'])), axis=1 )"
      ],
      "execution_count": 4,
      "outputs": []
    },
    {
      "cell_type": "markdown",
      "metadata": {
        "id": "Byvr4ftaWohX"
      },
      "source": [
        "## CPA\r\n",
        "\r\n",
        "CPA = -110 + 1.34(chest_diameter) + 1.54(chest_depth) +1.20(bitrochanteric_diameter) + 1.11(wrist_girth) + 1.15(ankle_girth) + 0.177(height) "
      ]
    },
    {
      "cell_type": "code",
      "metadata": {
        "id": "UzKJ5PMfXYR7"
      },
      "source": [
        "df['cpa'] = df.apply(lambda x: (-110 + 1.34*x['chest_diameter']+ 1.54*x['chest_depth'] +1.20*x['bitrochanteric_diameter'] + 1.11*x['wrist_minimum_girth'] + 1.15*x['ankle_minimum_girth'] + 0.177*x['height']), axis=1)"
      ],
      "execution_count": 5,
      "outputs": []
    },
    {
      "cell_type": "markdown",
      "metadata": {
        "id": "91RedwWLnis_"
      },
      "source": [
        "#Regression and Correlation"
      ]
    },
    {
      "cell_type": "code",
      "metadata": {
        "id": "4_pn5bFzhsby"
      },
      "source": [
        "# retrieving the required dataset.\r\n",
        "df_1 = pd.DataFrame(data = df, columns=['age','bmi'])\r\n",
        "df_2 = pd.DataFrame(data = df, columns=['weight', 'cpa'])"
      ],
      "execution_count": 6,
      "outputs": []
    },
    {
      "cell_type": "markdown",
      "metadata": {
        "id": "Zzv7xrTNZMKw"
      },
      "source": [
        "## Least squares and correlation\r\n",
        "\r\n",
        "To calculate the least squares line, we need to calculate the following values from the data:\r\n",
        "\r\n",
        "\r\n",
        "\r\n",
        "*   **sumx** and **sumy** : the sum of all X values and sum of all Y values.\r\n",
        "*   **sumxy** : the sum of all the products of each corresponding X,Y pair.\r\n",
        "*   **sumx_squared** and **sumy_squared** : the sum of square of every X value and the sum of square of every Y value \r\n",
        "*   **N** : the number of pairs\r\n",
        "\r\n",
        "\r\n",
        "*slope = (N * sumxy - (sumx * sumy)) / (N * sumx_squared - (sumx)^2)*\r\n",
        "\r\n",
        "*intercept = (sumy - (slope * sumx)) / N*\r\n",
        "\r\n",
        "*correlation = (N * sumxy - (sumx * sumy)) / sqrt ((sumx_squared - (sumx)^2) * (sumy_squared - (sumy)^2))*"
      ]
    },
    {
      "cell_type": "code",
      "metadata": {
        "id": "_xFmwgW2gmy3"
      },
      "source": [
        "#defining the function to calculate slope, intercept, and correlation\r\n",
        "def reg_and_corr(df, x, y):\r\n",
        "\r\n",
        "  #calculate sumx and sumy\r\n",
        "  sumx = df[x].sum()\r\n",
        "  sumy = df[y].sum()\r\n",
        "\r\n",
        "  #calculate sumxy\r\n",
        "  df[x+ '*' +y] = df.apply(lambda z: z[x] * z[y], axis=1)\r\n",
        "  sumxy = df[x+ '*' +y].sum()  \r\n",
        "\r\n",
        "  #calculate x^2 and y^2 for each cell\r\n",
        "  df[x + '*' + x] = df.apply(lambda z: z[x] * z[x], axis=1)\r\n",
        "  df[y + '*' + y] = df.apply(lambda z: z[y] * z[y], axis=1)\r\n",
        "\r\n",
        "  #taking summation of the x^2 and y^2 (calculate above) to calculate sumx_squared and sumy_squared \r\n",
        "  sumx_squared = df[x + '*' + x].sum()\r\n",
        "  sumy_squared = df[y + '*' + y].sum()\r\n",
        "\r\n",
        "  #counting the number of rows in dataframe\r\n",
        "  N = df.shape[0]\r\n",
        "\r\n",
        "  #calculate slope\r\n",
        "  slope = ((N * sumxy) - (sumx * sumy)) / ((N * sumx_squared) - pow(sumx,2)) \r\n",
        "\r\n",
        "  #calculate intercept\r\n",
        "  intercept = (sumy - (slope * sumx)) / N\r\n",
        "\r\n",
        "  #calculate correlation\r\n",
        "  correlation = (N * sumxy - (sumx * sumy)) / sqrt ((sumx_squared - pow(sumx, 2)) * (sumy_squared - pow(sumy,2)))\r\n",
        "\r\n",
        "  return slope, intercept, correlation\r\n"
      ],
      "execution_count": 7,
      "outputs": []
    },
    {
      "cell_type": "markdown",
      "metadata": {
        "id": "TGfP9s_6Y9V3"
      },
      "source": [
        "## Regression between Age and BMI\r\n",
        "\r\n",
        "Age values will be x and BMI values will be y."
      ]
    },
    {
      "cell_type": "code",
      "metadata": {
        "colab": {
          "base_uri": "https://localhost:8080/"
        },
        "id": "1oyNK1qgjjXU",
        "outputId": "d1182b80-b939-4b78-89fa-080e3121d5a7"
      },
      "source": [
        "s_1, i_1, corr_1 =  reg_and_corr(df_1, 'age', 'bmi')\r\n",
        "print(s_1, i_1, corr_1)"
      ],
      "execution_count": 8,
      "outputs": [
        {
          "output_type": "stream",
          "text": [
            "0.28788266751559466 60.45881542736957 0.012736984679324862\n"
          ],
          "name": "stdout"
        }
      ]
    },
    {
      "cell_type": "markdown",
      "metadata": {
        "id": "2AxefshGn8wR"
      },
      "source": [
        "## Regression between Weight and CPA\r\n",
        "\r\n",
        "Weight values will be x and CPA values will be y."
      ]
    },
    {
      "cell_type": "code",
      "metadata": {
        "colab": {
          "base_uri": "https://localhost:8080/"
        },
        "id": "x7OKow-fk8-1",
        "outputId": "a15cc344-6a7d-4355-ec47-71d5714b0211"
      },
      "source": [
        "s_2, i_2, corr_2 = reg_and_corr(df_2, 'weight', 'cpa')\r\n",
        "print(s_2, i_2, corr_2)"
      ],
      "execution_count": 9,
      "outputs": [
        {
          "output_type": "stream",
          "text": [
            "0.88847222052283 7.67545737150834 0.03311586846566294\n"
          ],
          "name": "stdout"
        }
      ]
    },
    {
      "cell_type": "markdown",
      "metadata": {
        "id": "QhxfoBlmomXU"
      },
      "source": [
        "#Plots"
      ]
    },
    {
      "cell_type": "code",
      "metadata": {
        "id": "LQm1QEW0onxZ"
      },
      "source": [
        "# import required packages\r\n",
        "import matplotlib.pyplot as plt\r\n",
        "import numpy as np"
      ],
      "execution_count": 12,
      "outputs": []
    },
    {
      "cell_type": "code",
      "metadata": {
        "colab": {
          "base_uri": "https://localhost:8080/",
          "height": 279
        },
        "id": "P5rRlFuLosN1",
        "outputId": "d0331d99-9744-4785-f289-b6988380673e"
      },
      "source": [
        "plt.scatter(df_1['age'], df_1['bmi'])\r\n",
        "x = np.array(df_1['age'])\r\n",
        "y = s_1 * x + i_1\r\n",
        "plt.plot(x,y, '-r','--')\r\n",
        "plt.xlabel('Age')\r\n",
        "plt.ylabel('BMI')\r\n",
        "plt.show()"
      ],
      "execution_count": 17,
      "outputs": [
        {
          "output_type": "display_data",
          "data": {
            "image/png": "[encoded data removed]",
            "text/plain": [
              "<Figure size 432x288 with 1 Axes>"
            ]
          },
          "metadata": {
            "tags": [],
            "needs_background": "light"
          }
        }
      ]
    },
    {
      "cell_type": "code",
      "metadata": {
        "colab": {
          "base_uri": "https://localhost:8080/",
          "height": 279
        },
        "id": "rRNXUcGWpCaI",
        "outputId": "5258ba31-46d0-46da-da8a-5702a6acac1a"
      },
      "source": [
        "plt.scatter(df_2['weight'], df_2['cpa'])\r\n",
        "x = np.array(df_2['weight'])\r\n",
        "y = s_1 * x + i_1\r\n",
        "plt.plot(x,y, '-r','--')\r\n",
        "plt.xlabel('weight')\r\n",
        "plt.ylabel('CPA')\r\n",
        "plt.show()"
      ],
      "execution_count": 19,
      "outputs": [
        {
          "output_type": "display_data",
          "data": {
            "image/png": "[encoded data removed]",
            "text/plain": [
              "<Figure size 432x288 with 1 Axes>"
            ]
          },
          "metadata": {
            "tags": [],
            "needs_background": "light"
          }
        }
      ]
    }
  ]
}